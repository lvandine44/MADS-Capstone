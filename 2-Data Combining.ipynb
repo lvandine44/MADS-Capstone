{
 "cells": [
  {
   "cell_type": "markdown",
   "metadata": {},
   "source": [
    "# Creating Master Dataframe for Modeling"
   ]
  },
  {
   "cell_type": "code",
   "execution_count": 1,
   "metadata": {},
   "outputs": [],
   "source": [
    "import pandas as pd"
   ]
  },
  {
   "cell_type": "markdown",
   "metadata": {},
   "source": [
    "**Load Each CSV File**"
   ]
  },
  {
   "cell_type": "code",
   "execution_count": 6,
   "metadata": {},
   "outputs": [],
   "source": [
    "# Load each CSV file\n",
    "menu_df = pd.read_csv('./data/menu_df.csv')\n",
    "diabetic_food_df = pd.read_csv('./data/diabetic_friendly_foods.csv')\n",
    "gi_df = pd.read_csv('./data/glycemic_index.csv')\n",
    "patient_df = pd.read_csv('./data/patient.csv')\n",
    "dexcom_cgm_df = pd.read_csv('./data/dexcom_cgm.csv')"
   ]
  },
  {
   "cell_type": "code",
   "execution_count": 7,
   "metadata": {},
   "outputs": [
    {
     "name": "stdout",
     "output_type": "stream",
     "text": [
      "Menu Data: (100, 14)\n",
      "Diabetic Food Data: (365, 11)\n",
      "Glycemic Index Data: (54, 2)\n",
      "Patient Data: (33568, 22)\n",
      "Dexcom CGM Data: (17118, 2)\n"
     ]
    }
   ],
   "source": [
    "# Inspect each DataFrame to determine the best way to combine them\n",
    "print(\"Menu Data:\", menu_df.shape)\n",
    "print(\"Diabetic Food Data:\", diabetic_food_df.shape)\n",
    "print(\"Glycemic Index Data:\", gi_df.shape)\n",
    "print(\"Patient Data:\", patient_df.shape)\n",
    "print(\"Dexcom CGM Data:\", dexcom_cgm_df.shape)"
   ]
  },
  {
   "cell_type": "code",
   "execution_count": 13,
   "metadata": {},
   "outputs": [
    {
     "name": "stdout",
     "output_type": "stream",
     "text": [
      "Index(['food_name', 'category', 'description', 'brand', 'food_category',\n",
      "       'calories', 'carbohydrates', 'fiber', 'sugars', 'fats', 'proteins'],\n",
      "      dtype='object')\n",
      "Index(['food_name', 'glycemic_index'], dtype='object')\n",
      "Index(['restaurant_name', 'food_name', 'serving_size', 'serving_unit',\n",
      "       'calories', 'carbohydrates', 'sugars', 'fats', 'saturated_fats',\n",
      "       'cholesterol', 'sodium', 'fiber', 'potassium', 'proteins', 'category',\n",
      "       'description', 'brand', 'food_category', 'glycemic_index'],\n",
      "      dtype='object')\n",
      "Index(['Diabetes_012', 'HighBP', 'HighChol', 'CholCheck', 'BMI', 'Smoker',\n",
      "       'Stroke', 'HeartDiseaseorAttack', 'PhysActivity', 'Fruits', 'Veggies',\n",
      "       'HvyAlcoholConsump', 'AnyHealthcare', 'NoDocbcCost', 'GenHlth',\n",
      "       'MentHlth', 'PhysHlth', 'DiffWalk', 'Sex', 'Age', 'Education',\n",
      "       'Income'],\n",
      "      dtype='object')\n",
      "Index(['displayTime', 'Glucose Value'], dtype='object')\n"
     ]
    }
   ],
   "source": [
    "print(diabetic_food_df.columns)\n",
    "print(gi_df.columns)\n",
    "print(menu_df.columns)\n",
    "print(patient_df.columns)\n",
    "print(dexcom_cgm_df.columns)"
   ]
  },
  {
   "cell_type": "markdown",
   "metadata": {},
   "source": [
    "Initial Standardization and Cleaning to ensure data can be merged"
   ]
  },
  {
   "cell_type": "code",
   "execution_count": null,
   "metadata": {},
   "outputs": [],
   "source": [
    "# Rename 'protein' in menu_df to 'proteins' for consistency with diabetic_food_df\n",
    "menu_df.rename(columns={'protein': 'proteins'}, inplace=True)\n",
    "# Convert relevant columns to numeric, setting errors='coerce' to handle any non-numeric data\n",
    "numeric_columns = ['calories', 'carbohydrates', 'sugars', 'fats', 'saturated_fats', 'cholesterol', 'sodium', 'fiber', 'potassium', 'proteins']\n",
    "menu_df[numeric_columns] = menu_df[numeric_columns].apply(pd.to_numeric, errors='coerce')"
   ]
  },
  {
   "cell_type": "markdown",
   "metadata": {},
   "source": [
    "Create keys to merge each dataset properly"
   ]
  },
  {
   "cell_type": "code",
   "execution_count": 20,
   "metadata": {},
   "outputs": [],
   "source": [
    "# Nutrient-Based Key for food_name in menu_df and diabetic_food_df\n",
    "# Standardize by lowercasing, strip whitespace, etc.\n",
    "menu_df['food_name'] = menu_df['food_name'].str.lower().str.strip()\n",
    "diabetic_food_df['food_name'] = diabetic_food_df['food_name'].str.lower().str.strip()\n",
    "gi_df['food_name'] = gi_df['food_name'].str.lower().str.strip()\n",
    "\n",
    "# Patient-Based Keys have standardized formatting\n",
    "patient_df['Age'] = patient_df['Age'].astype(int)  # integer format\n",
    "patient_df['Sex'] = patient_df['Sex'].astype(int)  # Standardize 'Sex' column"
   ]
  },
  {
   "cell_type": "markdown",
   "metadata": {},
   "source": [
    "**Merge Data**"
   ]
  },
  {
   "cell_type": "code",
   "execution_count": 22,
   "metadata": {},
   "outputs": [],
   "source": [
    "# Merge menu_df and diabetic_food_df on 'food_name'\n",
    "food_data = pd.merge(menu_df, diabetic_food_df, on='food_name', how='outer', suffixes=('_menu', '_diabetic'))\n",
    "\n",
    "# Merge glycemic index data with food_data based on 'food_name'\n",
    "master_food_data = pd.merge(food_data, gi_df[['food_name', 'glycemic_index']], on='food_name', how='left')\n",
    "\n",
    "# To merge the data for multiple patients, patient data is replicated for each food record\n",
    "# Repeat patient data across all food records\n",
    "expanded_patient_df = patient_df.loc[patient_df.index.repeat(len(master_food_data))].reset_index(drop=True)\n",
    "\n",
    "# Now, expanded_patient_df contains each patient's data repeated for every food record\n",
    "# Merge food data with the expanded patient data\n",
    "merged_data = pd.concat([master_food_data, expanded_patient_df], axis=1)"
   ]
  },
  {
   "cell_type": "code",
   "execution_count": 23,
   "metadata": {},
   "outputs": [
    {
     "data": {
      "text/html": [
       "<div>\n",
       "<style scoped>\n",
       "    .dataframe tbody tr th:only-of-type {\n",
       "        vertical-align: middle;\n",
       "    }\n",
       "\n",
       "    .dataframe tbody tr th {\n",
       "        vertical-align: top;\n",
       "    }\n",
       "\n",
       "    .dataframe thead th {\n",
       "        text-align: right;\n",
       "    }\n",
       "</style>\n",
       "<table border=\"1\" class=\"dataframe\">\n",
       "  <thead>\n",
       "    <tr style=\"text-align: right;\">\n",
       "      <th></th>\n",
       "      <th>restaurant_name</th>\n",
       "      <th>food_name</th>\n",
       "      <th>serving_size</th>\n",
       "      <th>serving_unit</th>\n",
       "      <th>calories_menu</th>\n",
       "      <th>carbohydrates_menu</th>\n",
       "      <th>sugars_menu</th>\n",
       "      <th>fats_menu</th>\n",
       "      <th>saturated_fats</th>\n",
       "      <th>cholesterol</th>\n",
       "      <th>...</th>\n",
       "      <th>AnyHealthcare</th>\n",
       "      <th>NoDocbcCost</th>\n",
       "      <th>GenHlth</th>\n",
       "      <th>MentHlth</th>\n",
       "      <th>PhysHlth</th>\n",
       "      <th>DiffWalk</th>\n",
       "      <th>Sex</th>\n",
       "      <th>Age</th>\n",
       "      <th>Education</th>\n",
       "      <th>Income</th>\n",
       "    </tr>\n",
       "  </thead>\n",
       "  <tbody>\n",
       "    <tr>\n",
       "      <th>0</th>\n",
       "      <td>NaN</td>\n",
       "      <td>almonds</td>\n",
       "      <td>NaN</td>\n",
       "      <td>NaN</td>\n",
       "      <td>NaN</td>\n",
       "      <td>NaN</td>\n",
       "      <td>NaN</td>\n",
       "      <td>NaN</td>\n",
       "      <td>NaN</td>\n",
       "      <td>NaN</td>\n",
       "      <td>...</td>\n",
       "      <td>1</td>\n",
       "      <td>0.0</td>\n",
       "      <td>2.0</td>\n",
       "      <td>0.0</td>\n",
       "      <td>0.0</td>\n",
       "      <td>0.0</td>\n",
       "      <td>0</td>\n",
       "      <td>11</td>\n",
       "      <td>4.0</td>\n",
       "      <td>3.0</td>\n",
       "    </tr>\n",
       "    <tr>\n",
       "      <th>1</th>\n",
       "      <td>NaN</td>\n",
       "      <td>almonds</td>\n",
       "      <td>NaN</td>\n",
       "      <td>NaN</td>\n",
       "      <td>NaN</td>\n",
       "      <td>NaN</td>\n",
       "      <td>NaN</td>\n",
       "      <td>NaN</td>\n",
       "      <td>NaN</td>\n",
       "      <td>NaN</td>\n",
       "      <td>...</td>\n",
       "      <td>1</td>\n",
       "      <td>0.0</td>\n",
       "      <td>2.0</td>\n",
       "      <td>0.0</td>\n",
       "      <td>0.0</td>\n",
       "      <td>0.0</td>\n",
       "      <td>0</td>\n",
       "      <td>11</td>\n",
       "      <td>4.0</td>\n",
       "      <td>3.0</td>\n",
       "    </tr>\n",
       "    <tr>\n",
       "      <th>2</th>\n",
       "      <td>NaN</td>\n",
       "      <td>almonds</td>\n",
       "      <td>NaN</td>\n",
       "      <td>NaN</td>\n",
       "      <td>NaN</td>\n",
       "      <td>NaN</td>\n",
       "      <td>NaN</td>\n",
       "      <td>NaN</td>\n",
       "      <td>NaN</td>\n",
       "      <td>NaN</td>\n",
       "      <td>...</td>\n",
       "      <td>1</td>\n",
       "      <td>0.0</td>\n",
       "      <td>2.0</td>\n",
       "      <td>0.0</td>\n",
       "      <td>0.0</td>\n",
       "      <td>0.0</td>\n",
       "      <td>0</td>\n",
       "      <td>11</td>\n",
       "      <td>4.0</td>\n",
       "      <td>3.0</td>\n",
       "    </tr>\n",
       "    <tr>\n",
       "      <th>3</th>\n",
       "      <td>NaN</td>\n",
       "      <td>almonds</td>\n",
       "      <td>NaN</td>\n",
       "      <td>NaN</td>\n",
       "      <td>NaN</td>\n",
       "      <td>NaN</td>\n",
       "      <td>NaN</td>\n",
       "      <td>NaN</td>\n",
       "      <td>NaN</td>\n",
       "      <td>NaN</td>\n",
       "      <td>...</td>\n",
       "      <td>1</td>\n",
       "      <td>0.0</td>\n",
       "      <td>2.0</td>\n",
       "      <td>0.0</td>\n",
       "      <td>0.0</td>\n",
       "      <td>0.0</td>\n",
       "      <td>0</td>\n",
       "      <td>11</td>\n",
       "      <td>4.0</td>\n",
       "      <td>3.0</td>\n",
       "    </tr>\n",
       "    <tr>\n",
       "      <th>4</th>\n",
       "      <td>NaN</td>\n",
       "      <td>almonds</td>\n",
       "      <td>NaN</td>\n",
       "      <td>NaN</td>\n",
       "      <td>NaN</td>\n",
       "      <td>NaN</td>\n",
       "      <td>NaN</td>\n",
       "      <td>NaN</td>\n",
       "      <td>NaN</td>\n",
       "      <td>NaN</td>\n",
       "      <td>...</td>\n",
       "      <td>1</td>\n",
       "      <td>0.0</td>\n",
       "      <td>2.0</td>\n",
       "      <td>0.0</td>\n",
       "      <td>0.0</td>\n",
       "      <td>0.0</td>\n",
       "      <td>0</td>\n",
       "      <td>11</td>\n",
       "      <td>4.0</td>\n",
       "      <td>3.0</td>\n",
       "    </tr>\n",
       "  </tbody>\n",
       "</table>\n",
       "<p>5 rows × 52 columns</p>\n",
       "</div>"
      ],
      "text/plain": [
       "  restaurant_name food_name  serving_size serving_unit  calories_menu  \\\n",
       "0             NaN   almonds           NaN          NaN            NaN   \n",
       "1             NaN   almonds           NaN          NaN            NaN   \n",
       "2             NaN   almonds           NaN          NaN            NaN   \n",
       "3             NaN   almonds           NaN          NaN            NaN   \n",
       "4             NaN   almonds           NaN          NaN            NaN   \n",
       "\n",
       "   carbohydrates_menu  sugars_menu  fats_menu  saturated_fats  cholesterol  \\\n",
       "0                 NaN          NaN        NaN             NaN          NaN   \n",
       "1                 NaN          NaN        NaN             NaN          NaN   \n",
       "2                 NaN          NaN        NaN             NaN          NaN   \n",
       "3                 NaN          NaN        NaN             NaN          NaN   \n",
       "4                 NaN          NaN        NaN             NaN          NaN   \n",
       "\n",
       "   ...  AnyHealthcare  NoDocbcCost  GenHlth  MentHlth PhysHlth DiffWalk Sex  \\\n",
       "0  ...              1          0.0      2.0       0.0      0.0      0.0   0   \n",
       "1  ...              1          0.0      2.0       0.0      0.0      0.0   0   \n",
       "2  ...              1          0.0      2.0       0.0      0.0      0.0   0   \n",
       "3  ...              1          0.0      2.0       0.0      0.0      0.0   0   \n",
       "4  ...              1          0.0      2.0       0.0      0.0      0.0   0   \n",
       "\n",
       "  Age Education Income  \n",
       "0  11       4.0    3.0  \n",
       "1  11       4.0    3.0  \n",
       "2  11       4.0    3.0  \n",
       "3  11       4.0    3.0  \n",
       "4  11       4.0    3.0  \n",
       "\n",
       "[5 rows x 52 columns]"
      ]
     },
     "execution_count": 23,
     "metadata": {},
     "output_type": "execute_result"
    }
   ],
   "source": [
    "# Validate data before adding CGM data\n",
    "merged_data.head()"
   ]
  },
  {
   "cell_type": "code",
   "execution_count": 24,
   "metadata": {},
   "outputs": [
    {
     "data": {
      "text/plain": [
       "(15609120, 52)"
      ]
     },
     "execution_count": 24,
     "metadata": {},
     "output_type": "execute_result"
    }
   ],
   "source": [
    "merged_data.shape"
   ]
  }
 ],
 "metadata": {
  "kernelspec": {
   "display_name": "Python 3 (ipykernel)",
   "language": "python",
   "name": "python3"
  },
  "language_info": {
   "codemirror_mode": {
    "name": "ipython",
    "version": 3
   },
   "file_extension": ".py",
   "mimetype": "text/x-python",
   "name": "python",
   "nbconvert_exporter": "python",
   "pygments_lexer": "ipython3",
   "version": "3.10.12"
  }
 },
 "nbformat": 4,
 "nbformat_minor": 2
}
