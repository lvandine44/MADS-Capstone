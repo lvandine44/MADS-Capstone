{
 "cells": [
  {
   "cell_type": "markdown",
   "metadata": {},
   "source": [
    "# Creating Master Dataframe for Modeling"
   ]
  },
  {
   "cell_type": "code",
   "execution_count": 3,
   "metadata": {},
   "outputs": [],
   "source": [
    "import pandas as pd\n",
    "import re"
   ]
  },
  {
   "cell_type": "markdown",
   "metadata": {},
   "source": [
    "### Load Data"
   ]
  },
  {
   "cell_type": "code",
   "execution_count": 35,
   "metadata": {},
   "outputs": [
    {
     "name": "stdout",
     "output_type": "stream",
     "text": [
      "Menu Data: (700, 14)\n",
      "Diabetic Food Data: (700, 12)\n",
      "Patient Data: (33568, 22)\n",
      "Dexcom CGM Data: (17118, 2)\n"
     ]
    }
   ],
   "source": [
    "# Load each CSV file\n",
    "menu_df = pd.read_csv('./data/menu_df.csv')\n",
    "individual_foods_df = pd.read_csv('./data/individual_foods.csv')\n",
    "# gi_df = pd.read_csv('./data/glycemic_index.csv')\n",
    "patient_df = pd.read_csv('./data/patient.csv')\n",
    "dexcom_cgm_df = pd.read_csv('./data/dexcom_cgm.csv')\n",
    "\n",
    "# Inspect each DataFrame to determine the best way to combine them\n",
    "print(\"Menu Data:\", menu_df.shape)\n",
    "print(\"Diabetic Food Data:\", individual_foods_df.shape)\n",
    "# print(\"Glycemic Index Data:\", gi_df.shape)\n",
    "print(\"Patient Data:\", patient_df.shape)\n",
    "print(\"Dexcom CGM Data:\", dexcom_cgm_df.shape)"
   ]
  },
  {
   "cell_type": "markdown",
   "metadata": {},
   "source": [
    "## Calculate Suitability Scores"
   ]
  },
  {
   "cell_type": "code",
   "execution_count": 36,
   "metadata": {},
   "outputs": [],
   "source": [
    "# Set weights based on nutritional importance\n",
    "carb_weight = 0.5\n",
    "sugar_weight = 0.3\n",
    "fiber_weight = 0.1\n",
    "protein_weight = 0.1"
   ]
  },
  {
   "cell_type": "code",
   "execution_count": 37,
   "metadata": {},
   "outputs": [],
   "source": [
    "# Set ideal nutritional values\n",
    "carb_goal = 52.5\n",
    "sugar_goal = 7.5\n",
    "fiber_goal = 7.5\n",
    "protein_goal = 20"
   ]
  },
  {
   "cell_type": "code",
   "execution_count": 38,
   "metadata": {},
   "outputs": [],
   "source": [
    "# Create function to calculate suitability score\n",
    "def suitability_score(carbohydrates, sugars, fiber, proteins):\n",
    "    # Check if any required value is missing\n",
    "    if pd.isna(carbohydrates) or pd.isna(sugars) or pd.isna(fiber) or pd.isna(proteins):\n",
    "        # Return -1 as an indicator that the score couldn't be calculated\n",
    "        return -1\n",
    "        \n",
    "    # Make sure score doesn't drop below 0\n",
    "    carb_score = 1 - abs(carbohydrates - carb_goal) / carb_goal\n",
    "    carb_score = max(0, carb_score)\n",
    "    \n",
    "    # Penalize high sugar content\n",
    "    sugar_score = 1 - sugars / sugar_goal\n",
    "    sugar_score = max(0, sugar_score)\n",
    "\n",
    "    # Cap fiber_score at 1 if >= fiber_goal\n",
    "    fiber_score = min(fiber / fiber_goal, 1)\n",
    "\n",
    "    # Cap protein_score at 1 if >= protein_goal\n",
    "    protein_score = min(proteins / protein_goal, 1)\n",
    "\n",
    "    score = (carb_weight * carb_score) + (sugar_weight * sugar_score) + (fiber_weight * fiber_score) + (protein_weight * protein_score)\n",
    "\n",
    "    return round(score, 3)"
   ]
  },
  {
   "cell_type": "code",
   "execution_count": 39,
   "metadata": {},
   "outputs": [
    {
     "data": {
      "text/html": [
       "<div>\n",
       "<style scoped>\n",
       "    .dataframe tbody tr th:only-of-type {\n",
       "        vertical-align: middle;\n",
       "    }\n",
       "\n",
       "    .dataframe tbody tr th {\n",
       "        vertical-align: top;\n",
       "    }\n",
       "\n",
       "    .dataframe thead th {\n",
       "        text-align: right;\n",
       "    }\n",
       "</style>\n",
       "<table border=\"1\" class=\"dataframe\">\n",
       "  <thead>\n",
       "    <tr style=\"text-align: right;\">\n",
       "      <th></th>\n",
       "      <th>restaurant_name</th>\n",
       "      <th>food_name</th>\n",
       "      <th>serving_size</th>\n",
       "      <th>serving_unit</th>\n",
       "      <th>calories</th>\n",
       "      <th>carbohydrates</th>\n",
       "      <th>sugars</th>\n",
       "      <th>fats</th>\n",
       "      <th>saturated_fats</th>\n",
       "      <th>cholesterol</th>\n",
       "      <th>sodium</th>\n",
       "      <th>fiber</th>\n",
       "      <th>potassium</th>\n",
       "      <th>proteins</th>\n",
       "      <th>score</th>\n",
       "    </tr>\n",
       "  </thead>\n",
       "  <tbody>\n",
       "    <tr>\n",
       "      <th>0</th>\n",
       "      <td>McDonald's Canada</td>\n",
       "      <td>Egg BLT McMuffin with Shredded Lettuce (McDona...</td>\n",
       "      <td>1.0</td>\n",
       "      <td>Serving</td>\n",
       "      <td>7.99</td>\n",
       "      <td>1.55</td>\n",
       "      <td>0.56</td>\n",
       "      <td>0.14</td>\n",
       "      <td>0.02</td>\n",
       "      <td>0.00</td>\n",
       "      <td>3.76</td>\n",
       "      <td>0.99</td>\n",
       "      <td>116.09</td>\n",
       "      <td>0.58</td>\n",
       "      <td>0.308</td>\n",
       "    </tr>\n",
       "    <tr>\n",
       "      <th>1</th>\n",
       "      <td>McDonald's</td>\n",
       "      <td>Cheeseburger</td>\n",
       "      <td>1.0</td>\n",
       "      <td>Serving</td>\n",
       "      <td>535.31</td>\n",
       "      <td>39.24</td>\n",
       "      <td>7.16</td>\n",
       "      <td>28.66</td>\n",
       "      <td>14.00</td>\n",
       "      <td>95.52</td>\n",
       "      <td>1176.09</td>\n",
       "      <td>2.39</td>\n",
       "      <td>443.77</td>\n",
       "      <td>30.27</td>\n",
       "      <td>0.519</td>\n",
       "    </tr>\n",
       "    <tr>\n",
       "      <th>2</th>\n",
       "      <td>McDonald's</td>\n",
       "      <td>Hamburger</td>\n",
       "      <td>1.0</td>\n",
       "      <td>Serving</td>\n",
       "      <td>540.14</td>\n",
       "      <td>40.27</td>\n",
       "      <td>NaN</td>\n",
       "      <td>26.56</td>\n",
       "      <td>10.52</td>\n",
       "      <td>122.04</td>\n",
       "      <td>791.00</td>\n",
       "      <td>NaN</td>\n",
       "      <td>569.52</td>\n",
       "      <td>34.28</td>\n",
       "      <td>-1.000</td>\n",
       "    </tr>\n",
       "    <tr>\n",
       "      <th>3</th>\n",
       "      <td>McDonald's</td>\n",
       "      <td>Honey</td>\n",
       "      <td>1.0</td>\n",
       "      <td>Serving</td>\n",
       "      <td>63.84</td>\n",
       "      <td>17.30</td>\n",
       "      <td>17.25</td>\n",
       "      <td>0.00</td>\n",
       "      <td>0.00</td>\n",
       "      <td>0.00</td>\n",
       "      <td>0.84</td>\n",
       "      <td>0.04</td>\n",
       "      <td>10.92</td>\n",
       "      <td>0.06</td>\n",
       "      <td>0.166</td>\n",
       "    </tr>\n",
       "    <tr>\n",
       "      <th>4</th>\n",
       "      <td>McDonald's</td>\n",
       "      <td>Hotcakes</td>\n",
       "      <td>1.0</td>\n",
       "      <td>Serving</td>\n",
       "      <td>90.80</td>\n",
       "      <td>11.32</td>\n",
       "      <td>NaN</td>\n",
       "      <td>3.88</td>\n",
       "      <td>0.85</td>\n",
       "      <td>23.60</td>\n",
       "      <td>175.60</td>\n",
       "      <td>NaN</td>\n",
       "      <td>52.80</td>\n",
       "      <td>2.56</td>\n",
       "      <td>-1.000</td>\n",
       "    </tr>\n",
       "  </tbody>\n",
       "</table>\n",
       "</div>"
      ],
      "text/plain": [
       "     restaurant_name                                          food_name  \\\n",
       "0  McDonald's Canada  Egg BLT McMuffin with Shredded Lettuce (McDona...   \n",
       "1         McDonald's                                       Cheeseburger   \n",
       "2         McDonald's                                          Hamburger   \n",
       "3         McDonald's                                              Honey   \n",
       "4         McDonald's                                           Hotcakes   \n",
       "\n",
       "   serving_size serving_unit  calories  carbohydrates  sugars   fats  \\\n",
       "0           1.0      Serving      7.99           1.55    0.56   0.14   \n",
       "1           1.0      Serving    535.31          39.24    7.16  28.66   \n",
       "2           1.0      Serving    540.14          40.27     NaN  26.56   \n",
       "3           1.0      Serving     63.84          17.30   17.25   0.00   \n",
       "4           1.0      Serving     90.80          11.32     NaN   3.88   \n",
       "\n",
       "   saturated_fats  cholesterol   sodium  fiber  potassium  proteins  score  \n",
       "0            0.02         0.00     3.76   0.99     116.09      0.58  0.308  \n",
       "1           14.00        95.52  1176.09   2.39     443.77     30.27  0.519  \n",
       "2           10.52       122.04   791.00    NaN     569.52     34.28 -1.000  \n",
       "3            0.00         0.00     0.84   0.04      10.92      0.06  0.166  \n",
       "4            0.85        23.60   175.60    NaN      52.80      2.56 -1.000  "
      ]
     },
     "execution_count": 39,
     "metadata": {},
     "output_type": "execute_result"
    }
   ],
   "source": [
    "# Create suitability_score column\n",
    "menu_df['score'] = menu_df.apply(lambda row: suitability_score(row['carbohydrates'], row['sugars'], row['fiber'], row['proteins']), axis=1)\n",
    "menu_df.head()"
   ]
  },
  {
   "cell_type": "code",
   "execution_count": 40,
   "metadata": {},
   "outputs": [
    {
     "data": {
      "text/html": [
       "<div>\n",
       "<style scoped>\n",
       "    .dataframe tbody tr th:only-of-type {\n",
       "        vertical-align: middle;\n",
       "    }\n",
       "\n",
       "    .dataframe tbody tr th {\n",
       "        vertical-align: top;\n",
       "    }\n",
       "\n",
       "    .dataframe thead th {\n",
       "        text-align: right;\n",
       "    }\n",
       "</style>\n",
       "<table border=\"1\" class=\"dataframe\">\n",
       "  <thead>\n",
       "    <tr style=\"text-align: right;\">\n",
       "      <th></th>\n",
       "      <th>food_name</th>\n",
       "      <th>category</th>\n",
       "      <th>description</th>\n",
       "      <th>brand</th>\n",
       "      <th>food_category</th>\n",
       "      <th>calories</th>\n",
       "      <th>carbohydrates</th>\n",
       "      <th>fiber</th>\n",
       "      <th>sugars</th>\n",
       "      <th>fats</th>\n",
       "      <th>proteins</th>\n",
       "      <th>score</th>\n",
       "    </tr>\n",
       "  </thead>\n",
       "  <tbody>\n",
       "    <tr>\n",
       "      <th>0</th>\n",
       "      <td>Broccoli</td>\n",
       "      <td>Individual Foods</td>\n",
       "      <td>BROCCOLI</td>\n",
       "      <td>GREAT VALUE</td>\n",
       "      <td>Frozen Vegetables</td>\n",
       "      <td>24.0</td>\n",
       "      <td>4.71</td>\n",
       "      <td>3.5</td>\n",
       "      <td>1.18</td>\n",
       "      <td>0.00</td>\n",
       "      <td>2.35</td>\n",
       "      <td>0.356</td>\n",
       "    </tr>\n",
       "    <tr>\n",
       "      <th>1</th>\n",
       "      <td>Broccoli</td>\n",
       "      <td>Individual Foods</td>\n",
       "      <td>BROCCOLI</td>\n",
       "      <td>EAT SMART</td>\n",
       "      <td>Pre-Packaged Fruit &amp; Vegetables</td>\n",
       "      <td>29.0</td>\n",
       "      <td>4.71</td>\n",
       "      <td>3.5</td>\n",
       "      <td>2.35</td>\n",
       "      <td>0.00</td>\n",
       "      <td>3.53</td>\n",
       "      <td>0.315</td>\n",
       "    </tr>\n",
       "    <tr>\n",
       "      <th>2</th>\n",
       "      <td>Broccoli</td>\n",
       "      <td>Individual Foods</td>\n",
       "      <td>BROCCOLI</td>\n",
       "      <td>NaN</td>\n",
       "      <td>Pre-Packaged Fruit &amp; Vegetables</td>\n",
       "      <td>34.0</td>\n",
       "      <td>5.41</td>\n",
       "      <td>2.0</td>\n",
       "      <td>1.35</td>\n",
       "      <td>0.34</td>\n",
       "      <td>2.70</td>\n",
       "      <td>0.338</td>\n",
       "    </tr>\n",
       "    <tr>\n",
       "      <th>3</th>\n",
       "      <td>Broccoli</td>\n",
       "      <td>Individual Foods</td>\n",
       "      <td>BROCCOLI</td>\n",
       "      <td>MAMBO</td>\n",
       "      <td>Frozen Vegetables</td>\n",
       "      <td>29.0</td>\n",
       "      <td>3.53</td>\n",
       "      <td>2.4</td>\n",
       "      <td>1.18</td>\n",
       "      <td>0.00</td>\n",
       "      <td>1.18</td>\n",
       "      <td>0.324</td>\n",
       "    </tr>\n",
       "    <tr>\n",
       "      <th>4</th>\n",
       "      <td>Broccoli</td>\n",
       "      <td>Individual Foods</td>\n",
       "      <td>BROCCOLI</td>\n",
       "      <td>GOOD &amp; GATHER</td>\n",
       "      <td>Frozen Vegetables</td>\n",
       "      <td>24.0</td>\n",
       "      <td>4.71</td>\n",
       "      <td>3.5</td>\n",
       "      <td>1.18</td>\n",
       "      <td>0.00</td>\n",
       "      <td>2.35</td>\n",
       "      <td>0.356</td>\n",
       "    </tr>\n",
       "  </tbody>\n",
       "</table>\n",
       "</div>"
      ],
      "text/plain": [
       "  food_name          category description          brand  \\\n",
       "0  Broccoli  Individual Foods    BROCCOLI    GREAT VALUE   \n",
       "1  Broccoli  Individual Foods    BROCCOLI      EAT SMART   \n",
       "2  Broccoli  Individual Foods    BROCCOLI            NaN   \n",
       "3  Broccoli  Individual Foods    BROCCOLI          MAMBO   \n",
       "4  Broccoli  Individual Foods    BROCCOLI  GOOD & GATHER   \n",
       "\n",
       "                     food_category  calories  carbohydrates  fiber  sugars  \\\n",
       "0                Frozen Vegetables      24.0           4.71    3.5    1.18   \n",
       "1  Pre-Packaged Fruit & Vegetables      29.0           4.71    3.5    2.35   \n",
       "2  Pre-Packaged Fruit & Vegetables      34.0           5.41    2.0    1.35   \n",
       "3                Frozen Vegetables      29.0           3.53    2.4    1.18   \n",
       "4                Frozen Vegetables      24.0           4.71    3.5    1.18   \n",
       "\n",
       "   fats  proteins  score  \n",
       "0  0.00      2.35  0.356  \n",
       "1  0.00      3.53  0.315  \n",
       "2  0.34      2.70  0.338  \n",
       "3  0.00      1.18  0.324  \n",
       "4  0.00      2.35  0.356  "
      ]
     },
     "execution_count": 40,
     "metadata": {},
     "output_type": "execute_result"
    }
   ],
   "source": [
    "# Create suitability_score column for Individual Foods \n",
    "individual_foods_df['score'] = individual_foods_df.apply(lambda row: suitability_score(row['carbohydrates'], row['sugars'], row['fiber'], row['proteins']), axis=1)\n",
    "individual_foods_df.head()"
   ]
  },
  {
   "cell_type": "markdown",
   "metadata": {},
   "source": [
    "#### Update CSV's to include scores "
   ]
  },
  {
   "cell_type": "code",
   "execution_count": 44,
   "metadata": {},
   "outputs": [],
   "source": [
    "data_dir = './data/'\n",
    "menu_df.to_csv(data_dir + 'menu_df.csv', index=False)\n",
    "individual_foods_df.to_csv(data_dir + 'individual_foods.csv', index=False)"
   ]
  },
  {
   "cell_type": "markdown",
   "metadata": {},
   "source": [
    "## Merging Food Data"
   ]
  },
  {
   "cell_type": "markdown",
   "metadata": {},
   "source": [
    "### Inspect Columns and Food Names"
   ]
  },
  {
   "cell_type": "code",
   "execution_count": 13,
   "metadata": {},
   "outputs": [],
   "source": [
    "# print(diabetic_food_df.columns)\n",
    "# print(gi_df.columns)\n",
    "# print(menu_df.columns)\n",
    "# print(patient_df.columns)\n",
    "# print(dexcom_cgm_df.columns)"
   ]
  },
  {
   "cell_type": "code",
   "execution_count": 14,
   "metadata": {},
   "outputs": [],
   "source": [
    "# # Inspect unique food names in each dataset\n",
    "# print(\"Unique food names in Menu Data:\")\n",
    "# print(menu_df['food_name'].unique())\n",
    "\n",
    "# print(\"\\nUnique food names in Diabetic Food Data:\")\n",
    "# print(diabetic_food_df['food_name'].unique())\n",
    "\n",
    "# print(\"\\nUnique food names in Glycemic Index Data:\")\n",
    "# print(gi_df['food_name'].unique())"
   ]
  },
  {
   "cell_type": "markdown",
   "metadata": {},
   "source": [
    "### Separating Grams from Food Names in Glycemic Index"
   ]
  },
  {
   "cell_type": "code",
   "execution_count": 15,
   "metadata": {},
   "outputs": [],
   "source": [
    "# # Extract weight (grams) from food_name\n",
    "# def extract_weight(name):\n",
    "#     match = re.search(r\"\\((.*?)\\)\", name)\n",
    "#     return match.group(1) if match else None\n",
    "\n",
    "# # Apply to glycemic index dataset\n",
    "# gi_df['serving_weight'] = gi_df['food_name'].apply(extract_weight)\n",
    "\n",
    "# # Remove the weight from food_name\n",
    "# gi_df['food_name'] = gi_df['food_name'].str.replace(r\"\\(.*?\\)\", \"\", regex=True).str.strip()\n",
    "\n",
    "# # Verify results\n",
    "# print(gi_df.head())"
   ]
  },
  {
   "cell_type": "markdown",
   "metadata": {},
   "source": [
    "### Standardize Food Names Across Datasets"
   ]
  },
  {
   "cell_type": "code",
   "execution_count": 16,
   "metadata": {},
   "outputs": [],
   "source": [
    "# # Standardize food_name in all datasets\n",
    "# for df in [gi_df, menu_df, diabetic_food_df]:\n",
    "#     df['food_name'] = df['food_name'].str.lower().str.strip()\n",
    "\n",
    "# # Verify unique food names after standardization\n",
    "# print(\"Unique food names in Glycemic Index:\", gi_df['food_name'].unique())\n",
    "# print(\"Unique food names in Menu Data:\", menu_df['food_name'].unique())\n",
    "# print(\"Unique food names in Diabetic Food Data:\", diabetic_food_df['food_name'].unique())"
   ]
  },
  {
   "cell_type": "markdown",
   "metadata": {},
   "source": [
    "### Align Columns Across Datasets"
   ]
  },
  {
   "cell_type": "code",
   "execution_count": 160,
   "metadata": {},
   "outputs": [],
   "source": [
    "# # Ensure all datasets have the same columns\n",
    "# all_columns = set(gi_df.columns) | set(menu_df.columns) | set(diabetic_food_df.columns)\n",
    "# for df in [gi_df, menu_df, diabetic_food_df]:\n",
    "#     for col in all_columns:\n",
    "#         if col not in df.columns:\n",
    "#             df[col] = pd.NA\n",
    "\n",
    "# # Verify alignment\n",
    "# print(\"Glycemic Index Columns:\", gi_df.columns)\n",
    "# print(\"Menu Data Columns:\", menu_df.columns)\n",
    "# print(\"Diabetic Food Data Columns:\", diabetic_food_df.columns)"
   ]
  },
  {
   "cell_type": "markdown",
   "metadata": {},
   "source": [
    "### Merge Data"
   ]
  },
  {
   "cell_type": "code",
   "execution_count": 17,
   "metadata": {},
   "outputs": [],
   "source": [
    "# # Merge Glycemic Index and Diabetic Food Data\n",
    "# food_gi_combined = pd.merge(diabetic_food_df, gi_df, on='food_name', how='outer')\n",
    "\n",
    "# # Add Menu Data\n",
    "# combined_food_data = pd.merge(food_gi_combined, menu_df, on='food_name', how='outer')\n",
    "\n",
    "# # Inspect the merged dataset\n",
    "# print(\"Combined Food Data:\")\n",
    "# print(combined_food_data.head())"
   ]
  },
  {
   "cell_type": "markdown",
   "metadata": {},
   "source": [
    "### Handle Duplicates"
   ]
  },
  {
   "cell_type": "code",
   "execution_count": 18,
   "metadata": {},
   "outputs": [],
   "source": [
    "# # Check for duplicates\n",
    "# duplicates = combined_food_data[combined_food_data.duplicated(subset='food_name', keep=False)]\n",
    "# print(\"Duplicate food names:\")\n",
    "# print(duplicates)"
   ]
  },
  {
   "cell_type": "markdown",
   "metadata": {},
   "source": [
    "### Aggregate Numeric Columns"
   ]
  },
  {
   "cell_type": "code",
   "execution_count": 19,
   "metadata": {},
   "outputs": [],
   "source": [
    "# # Defining aggregation rules\n",
    "# numeric_aggregation = {\n",
    "#     'calories_x': 'mean',\n",
    "#     'carbohydrates_x': 'mean',\n",
    "#     'fiber_x': 'mean',\n",
    "#     'fats_x': 'mean',\n",
    "#     'glycemic_index': 'mean',\n",
    "# }\n",
    "# non_numeric_aggregation = {col: 'first' for col in combined_food_data.columns if col not in numeric_aggregation and col != 'food_name'}\n",
    "# aggregation_rules = {**numeric_aggregation, **non_numeric_aggregation}\n",
    "\n",
    "# # Aggregate data\n",
    "# aggregated_data = combined_food_data.groupby('food_name').agg(aggregation_rules).reset_index()\n",
    "\n",
    "# # Inspect aggregated data\n",
    "# print(\"Aggregated DataFrame with All Columns:\")\n",
    "# print(aggregated_data.head())"
   ]
  },
  {
   "cell_type": "markdown",
   "metadata": {},
   "source": [
    "### Normalize Nutritional Values"
   ]
  },
  {
   "cell_type": "code",
   "execution_count": 20,
   "metadata": {},
   "outputs": [],
   "source": [
    "# # Calculate per-100g values where serving_weight is available\n",
    "# aggregated_data['serving_weight'] = pd.to_numeric(aggregated_data['serving_weight'], errors='coerce')\n",
    "# valid_weight = aggregated_data['serving_weight'] > 0\n",
    "\n",
    "# aggregated_data.loc[valid_weight, 'calories_per_100g'] = (\n",
    "#     aggregated_data.loc[valid_weight, 'calories_x'] / aggregated_data.loc[valid_weight, 'serving_weight'] * 100\n",
    "# )\n",
    "# aggregated_data.loc[valid_weight, 'carbs_per_100g'] = (\n",
    "#     aggregated_data.loc[valid_weight, 'carbohydrates_x'] / aggregated_data.loc[valid_weight, 'serving_weight'] * 100\n",
    "# )\n",
    "# aggregated_data.loc[valid_weight, 'fats_per_100g'] = (\n",
    "#     aggregated_data.loc[valid_weight, 'fats_x'] / aggregated_data.loc[valid_weight, 'serving_weight'] * 100\n",
    "# )"
   ]
  },
  {
   "cell_type": "markdown",
   "metadata": {},
   "source": [
    "Categorize Glycemic Index"
   ]
  },
  {
   "cell_type": "code",
   "execution_count": 21,
   "metadata": {},
   "outputs": [],
   "source": [
    "# # Categorize based on glycemic index\n",
    "# def categorize_gi(value):\n",
    "#     if pd.isna(value):\n",
    "#         return 'Unknown'\n",
    "#     elif value <= 55:\n",
    "#         return 'Low'\n",
    "#     elif value <= 70:\n",
    "#         return 'Medium'\n",
    "#     else:\n",
    "#         return 'High'\n",
    "\n",
    "# aggregated_data['gi_category'] = aggregated_data['glycemic_index'].apply(categorize_gi)\n"
   ]
  },
  {
   "cell_type": "markdown",
   "metadata": {},
   "source": [
    "### Final Review"
   ]
  },
  {
   "cell_type": "code",
   "execution_count": 22,
   "metadata": {},
   "outputs": [],
   "source": [
    "# # Review final dataset\n",
    "# print(\"Final Dataset Shape:\", aggregated_data.shape)\n",
    "# print(aggregated_data.head())"
   ]
  },
  {
   "cell_type": "markdown",
   "metadata": {},
   "source": [
    "### Export Merged data to CSV"
   ]
  },
  {
   "cell_type": "code",
   "execution_count": 23,
   "metadata": {},
   "outputs": [],
   "source": [
    "# # Export the final aggregated data to a CSV file\n",
    "# output_path = './data/combined_food_data.csv'\n",
    "# aggregated_data.to_csv(output_path, index=False)\n",
    "\n",
    "# print(f\"Final combined data exported to: {output_path}\")"
   ]
  },
  {
   "cell_type": "markdown",
   "metadata": {},
   "source": [
    "## Merging Patient Data"
   ]
  },
  {
   "cell_type": "code",
   "execution_count": 176,
   "metadata": {},
   "outputs": [],
   "source": [
    "# Patient-Based Keys have standardized formatting\n",
    "patient_df['Age'] = patient_df['Age'].astype(int)  # integer format\n",
    "patient_df['Sex'] = patient_df['Sex'].astype(int)  # Standardize 'Sex' column"
   ]
  },
  {
   "cell_type": "code",
   "execution_count": 177,
   "metadata": {},
   "outputs": [
    {
     "data": {
      "text/plain": [
       "(33568, 22)"
      ]
     },
     "execution_count": 177,
     "metadata": {},
     "output_type": "execute_result"
    }
   ],
   "source": [
    "patient_df.columns\n",
    "patient_df.shape"
   ]
  },
  {
   "cell_type": "code",
   "execution_count": 178,
   "metadata": {},
   "outputs": [
    {
     "data": {
      "text/plain": [
       "(17118, 2)"
      ]
     },
     "execution_count": 178,
     "metadata": {},
     "output_type": "execute_result"
    }
   ],
   "source": [
    "dexcom_cgm_df.columns\n",
    "dexcom_cgm_df.shape"
   ]
  },
  {
   "cell_type": "code",
   "execution_count": 179,
   "metadata": {},
   "outputs": [
    {
     "data": {
      "text/html": [
       "<div>\n",
       "<style scoped>\n",
       "    .dataframe tbody tr th:only-of-type {\n",
       "        vertical-align: middle;\n",
       "    }\n",
       "\n",
       "    .dataframe tbody tr th {\n",
       "        vertical-align: top;\n",
       "    }\n",
       "\n",
       "    .dataframe thead th {\n",
       "        text-align: right;\n",
       "    }\n",
       "</style>\n",
       "<table border=\"1\" class=\"dataframe\">\n",
       "  <thead>\n",
       "    <tr style=\"text-align: right;\">\n",
       "      <th></th>\n",
       "      <th>Diabetes_012</th>\n",
       "      <th>HighBP</th>\n",
       "      <th>HighChol</th>\n",
       "      <th>CholCheck</th>\n",
       "      <th>BMI</th>\n",
       "      <th>Smoker</th>\n",
       "      <th>Stroke</th>\n",
       "      <th>HeartDiseaseorAttack</th>\n",
       "      <th>PhysActivity</th>\n",
       "      <th>Fruits</th>\n",
       "      <th>...</th>\n",
       "      <th>GenHlth</th>\n",
       "      <th>MentHlth</th>\n",
       "      <th>PhysHlth</th>\n",
       "      <th>DiffWalk</th>\n",
       "      <th>Sex</th>\n",
       "      <th>Age</th>\n",
       "      <th>Education</th>\n",
       "      <th>Income</th>\n",
       "      <th>Glucose Value</th>\n",
       "      <th>Time Checked</th>\n",
       "    </tr>\n",
       "  </thead>\n",
       "  <tbody>\n",
       "    <tr>\n",
       "      <th>0</th>\n",
       "      <td>2.0</td>\n",
       "      <td>1</td>\n",
       "      <td>0.0</td>\n",
       "      <td>1</td>\n",
       "      <td>28.0</td>\n",
       "      <td>0.0</td>\n",
       "      <td>0.0</td>\n",
       "      <td>1.0</td>\n",
       "      <td>0</td>\n",
       "      <td>1</td>\n",
       "      <td>...</td>\n",
       "      <td>2.0</td>\n",
       "      <td>0.0</td>\n",
       "      <td>0.0</td>\n",
       "      <td>0.0</td>\n",
       "      <td>0</td>\n",
       "      <td>11</td>\n",
       "      <td>4.0</td>\n",
       "      <td>3.0</td>\n",
       "      <td>117</td>\n",
       "      <td>2024-11-05T14:18:32</td>\n",
       "    </tr>\n",
       "    <tr>\n",
       "      <th>1</th>\n",
       "      <td>2.0</td>\n",
       "      <td>1</td>\n",
       "      <td>1.0</td>\n",
       "      <td>1</td>\n",
       "      <td>33.0</td>\n",
       "      <td>0.0</td>\n",
       "      <td>0.0</td>\n",
       "      <td>0.0</td>\n",
       "      <td>1</td>\n",
       "      <td>1</td>\n",
       "      <td>...</td>\n",
       "      <td>2.0</td>\n",
       "      <td>10.0</td>\n",
       "      <td>0.0</td>\n",
       "      <td>0.0</td>\n",
       "      <td>0</td>\n",
       "      <td>9</td>\n",
       "      <td>4.0</td>\n",
       "      <td>7.0</td>\n",
       "      <td>115</td>\n",
       "      <td>2024-11-05T14:13:32</td>\n",
       "    </tr>\n",
       "    <tr>\n",
       "      <th>2</th>\n",
       "      <td>2.0</td>\n",
       "      <td>0</td>\n",
       "      <td>1.0</td>\n",
       "      <td>1</td>\n",
       "      <td>29.0</td>\n",
       "      <td>0.0</td>\n",
       "      <td>1.0</td>\n",
       "      <td>1.0</td>\n",
       "      <td>1</td>\n",
       "      <td>1</td>\n",
       "      <td>...</td>\n",
       "      <td>5.0</td>\n",
       "      <td>0.0</td>\n",
       "      <td>30.0</td>\n",
       "      <td>1.0</td>\n",
       "      <td>1</td>\n",
       "      <td>12</td>\n",
       "      <td>3.0</td>\n",
       "      <td>4.0</td>\n",
       "      <td>114</td>\n",
       "      <td>2024-11-05T14:08:32</td>\n",
       "    </tr>\n",
       "    <tr>\n",
       "      <th>3</th>\n",
       "      <td>2.0</td>\n",
       "      <td>0</td>\n",
       "      <td>0.0</td>\n",
       "      <td>1</td>\n",
       "      <td>24.0</td>\n",
       "      <td>0.0</td>\n",
       "      <td>0.0</td>\n",
       "      <td>1.0</td>\n",
       "      <td>0</td>\n",
       "      <td>0</td>\n",
       "      <td>...</td>\n",
       "      <td>4.0</td>\n",
       "      <td>0.0</td>\n",
       "      <td>0.0</td>\n",
       "      <td>0.0</td>\n",
       "      <td>1</td>\n",
       "      <td>12</td>\n",
       "      <td>6.0</td>\n",
       "      <td>7.0</td>\n",
       "      <td>115</td>\n",
       "      <td>2024-11-05T14:03:33</td>\n",
       "    </tr>\n",
       "    <tr>\n",
       "      <th>4</th>\n",
       "      <td>2.0</td>\n",
       "      <td>0</td>\n",
       "      <td>0.0</td>\n",
       "      <td>1</td>\n",
       "      <td>33.0</td>\n",
       "      <td>1.0</td>\n",
       "      <td>0.0</td>\n",
       "      <td>0.0</td>\n",
       "      <td>1</td>\n",
       "      <td>0</td>\n",
       "      <td>...</td>\n",
       "      <td>4.0</td>\n",
       "      <td>0.0</td>\n",
       "      <td>0.0</td>\n",
       "      <td>0.0</td>\n",
       "      <td>1</td>\n",
       "      <td>6</td>\n",
       "      <td>5.0</td>\n",
       "      <td>2.0</td>\n",
       "      <td>115</td>\n",
       "      <td>2024-11-05T13:58:32</td>\n",
       "    </tr>\n",
       "  </tbody>\n",
       "</table>\n",
       "<p>5 rows × 24 columns</p>\n",
       "</div>"
      ],
      "text/plain": [
       "   Diabetes_012  HighBP  HighChol  CholCheck   BMI  Smoker  Stroke  \\\n",
       "0           2.0       1       0.0          1  28.0     0.0     0.0   \n",
       "1           2.0       1       1.0          1  33.0     0.0     0.0   \n",
       "2           2.0       0       1.0          1  29.0     0.0     1.0   \n",
       "3           2.0       0       0.0          1  24.0     0.0     0.0   \n",
       "4           2.0       0       0.0          1  33.0     1.0     0.0   \n",
       "\n",
       "   HeartDiseaseorAttack  PhysActivity  Fruits  ...  GenHlth  MentHlth  \\\n",
       "0                   1.0             0       1  ...      2.0       0.0   \n",
       "1                   0.0             1       1  ...      2.0      10.0   \n",
       "2                   1.0             1       1  ...      5.0       0.0   \n",
       "3                   1.0             0       0  ...      4.0       0.0   \n",
       "4                   0.0             1       0  ...      4.0       0.0   \n",
       "\n",
       "   PhysHlth  DiffWalk  Sex  Age  Education  Income  Glucose Value  \\\n",
       "0       0.0       0.0    0   11        4.0     3.0            117   \n",
       "1       0.0       0.0    0    9        4.0     7.0            115   \n",
       "2      30.0       1.0    1   12        3.0     4.0            114   \n",
       "3       0.0       0.0    1   12        6.0     7.0            115   \n",
       "4       0.0       0.0    1    6        5.0     2.0            115   \n",
       "\n",
       "          Time Checked  \n",
       "0  2024-11-05T14:18:32  \n",
       "1  2024-11-05T14:13:32  \n",
       "2  2024-11-05T14:08:32  \n",
       "3  2024-11-05T14:03:33  \n",
       "4  2024-11-05T13:58:32  \n",
       "\n",
       "[5 rows x 24 columns]"
      ]
     },
     "execution_count": 179,
     "metadata": {},
     "output_type": "execute_result"
    }
   ],
   "source": [
    "# Calculate the necessary repetitions of patient data to join with glucose data\n",
    "num_repeats = len(dexcom_cgm_df) // len(patient_df) + 1\n",
    "expanded_patient_df = pd.concat([patient_df] * num_repeats, ignore_index=True)\n",
    "expanded_patient_df = expanded_patient_df[:len(dexcom_cgm_df)]  # Truncate to match glucose data length\n",
    "\n",
    "# Combine patient data with Dexcom glucose data (should result in 17118 patient records)\n",
    "simulated_df = pd.concat([expanded_patient_df.reset_index(drop=True), dexcom_cgm_df.reset_index(drop=True)], axis=1)\n",
    "\n",
    "simulated_df['Time Checked'] = simulated_df['displayTime']\n",
    "patient = simulated_df.drop(columns=['displayTime'])\n",
    "\n",
    "# Display the simulated dataframe\n",
    "patient.head()"
   ]
  },
  {
   "cell_type": "code",
   "execution_count": 180,
   "metadata": {},
   "outputs": [
    {
     "data": {
      "text/plain": [
       "(17118, 24)"
      ]
     },
     "execution_count": 180,
     "metadata": {},
     "output_type": "execute_result"
    }
   ],
   "source": [
    "# Validate record count\n",
    "patient.shape"
   ]
  },
  {
   "cell_type": "code",
   "execution_count": 181,
   "metadata": {},
   "outputs": [
    {
     "name": "stdout",
     "output_type": "stream",
     "text": [
      "Final combined data exported to: ./data/patient_records.csv\n"
     ]
    }
   ],
   "source": [
    "# Export the final aggregated data to a CSV file\n",
    "output_path = './data/patient_records.csv'\n",
    "patient.to_csv(output_path, index=False)\n",
    "\n",
    "print(f\"Final combined data exported to: {output_path}\")"
   ]
  }
 ],
 "metadata": {
  "kernelspec": {
   "display_name": "Python 3 (ipykernel)",
   "language": "python",
   "name": "python3"
  },
  "language_info": {
   "codemirror_mode": {
    "name": "ipython",
    "version": 3
   },
   "file_extension": ".py",
   "mimetype": "text/x-python",
   "name": "python",
   "nbconvert_exporter": "python",
   "pygments_lexer": "ipython3",
   "version": "3.10.12"
  }
 },
 "nbformat": 4,
 "nbformat_minor": 4
}
