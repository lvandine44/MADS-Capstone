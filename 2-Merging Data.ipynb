{
 "cells": [
  {
   "cell_type": "markdown",
   "metadata": {},
   "source": [
    "# Creating Master Dataframe for Modeling"
   ]
  },
  {
   "cell_type": "code",
   "execution_count": 36,
   "metadata": {},
   "outputs": [],
   "source": [
    "import pandas as pd\n",
    "import re"
   ]
  },
  {
   "cell_type": "markdown",
   "metadata": {},
   "source": [
    "### Load Data"
   ]
  },
  {
   "cell_type": "code",
   "execution_count": 37,
   "metadata": {},
   "outputs": [
    {
     "name": "stdout",
     "output_type": "stream",
     "text": [
      "Menu Data: (100, 14)\n",
      "Diabetic Food Data: (365, 11)\n",
      "Glycemic Index Data: (54, 2)\n",
      "Patient Data: (33568, 22)\n",
      "Dexcom CGM Data: (17118, 2)\n"
     ]
    }
   ],
   "source": [
    "# Load each CSV file\n",
    "menu_df = pd.read_csv('./data/menu_df.csv')\n",
    "diabetic_food_df = pd.read_csv('./data/diabetic_friendly_foods.csv')\n",
    "gi_df = pd.read_csv('./data/glycemic_index.csv')\n",
    "patient_df = pd.read_csv('./data/patient.csv')\n",
    "dexcom_cgm_df = pd.read_csv('./data/dexcom_cgm.csv')\n",
    "\n",
    "# Inspect each DataFrame to determine the best way to combine them\n",
    "print(\"Menu Data:\", menu_df.shape)\n",
    "print(\"Diabetic Food Data:\", diabetic_food_df.shape)\n",
    "print(\"Glycemic Index Data:\", gi_df.shape)\n",
    "print(\"Patient Data:\", patient_df.shape)\n",
    "print(\"Dexcom CGM Data:\", dexcom_cgm_df.shape)"
   ]
  },
  {
   "cell_type": "markdown",
   "metadata": {},
   "source": [
    "## Merging Food Data"
   ]
  },
  {
   "cell_type": "markdown",
   "metadata": {},
   "source": [
    "### Inspect Columns and Food Names"
   ]
  },
  {
   "cell_type": "code",
   "execution_count": 38,
   "metadata": {},
   "outputs": [
    {
     "name": "stdout",
     "output_type": "stream",
     "text": [
      "Index(['food_name', 'category', 'description', 'brand', 'food_category',\n",
      "       'calories', 'carbohydrates', 'fiber', 'sugars', 'fats', 'proteins'],\n",
      "      dtype='object')\n",
      "Index(['food_name', 'glycemic_index'], dtype='object')\n",
      "Index(['restaurant_name', 'food_name', 'serving_size', 'serving_unit',\n",
      "       'calories', 'carbohydrates', 'sugars', 'fats', 'saturated_fats',\n",
      "       'cholesterol', 'sodium', 'fiber', 'potassium', 'proteins'],\n",
      "      dtype='object')\n",
      "Index(['Diabetes_012', 'HighBP', 'HighChol', 'CholCheck', 'BMI', 'Smoker',\n",
      "       'Stroke', 'HeartDiseaseorAttack', 'PhysActivity', 'Fruits', 'Veggies',\n",
      "       'HvyAlcoholConsump', 'AnyHealthcare', 'NoDocbcCost', 'GenHlth',\n",
      "       'MentHlth', 'PhysHlth', 'DiffWalk', 'Sex', 'Age', 'Education',\n",
      "       'Income'],\n",
      "      dtype='object')\n",
      "Index(['displayTime', 'Glucose Value'], dtype='object')\n"
     ]
    }
   ],
   "source": [
    "print(diabetic_food_df.columns)\n",
    "print(gi_df.columns)\n",
    "print(menu_df.columns)\n",
    "print(patient_df.columns)\n",
    "print(dexcom_cgm_df.columns)"
   ]
  },
  {
   "cell_type": "code",
   "execution_count": 39,
   "metadata": {},
   "outputs": [
    {
     "name": "stdout",
     "output_type": "stream",
     "text": [
      "Unique food names in Menu Data:\n",
      "[\"Egg BLT McMuffin with Shredded Lettuce (McDonald's in Walmart)\"\n",
      " 'Cheeseburger' 'Hamburger' 'Honey' 'Hotcakes' 'McChicken' 'McCrispy'\n",
      " 'McDouble' 'Americano, Large' 'Americano, Medium' 'Americano, Small'\n",
      " 'Apple Slices' 'Big Breakfast' 'Big Mac' 'Cappuccino, Large'\n",
      " 'Cappuccino, Medium' 'Cappuccino, Small' 'Dasani Water' 'Deluxe McCrispy'\n",
      " 'Double Cheeseburger' 'Bacon King' 'Rodeo Burger' 'Whopper'\n",
      " 'Bacon Cheeseburger' 'Bacon Melt' 'Big Fish' 'Chicken Jr.'\n",
      " 'Chocolate Shake' 'Classic Melt' 'Double Whopper' 'Impossible Whopper'\n",
      " 'Large Sprite' 'MOTTS Applesauce' 'Medium Sprite' 'Pancake Platter'\n",
      " 'Philly Melt' 'Rodeo Cheeseburger'\n",
      " 'Taco Shells, Bell Essentials, Crunchy' 'Crunchy Taco'\n",
      " 'Nachos BellGrande - Beef' 'Nachos BellGrande - Chicken'\n",
      " 'Nachos BellGrande - Steak' 'Crunchy Taco Supreme' 'Double Decker Taco'\n",
      " 'Double Stacked Taco' 'Soft Taco - Beef' 'Soft Taco - Chicken'\n",
      " 'Fries Bell Grande' 'Nachos Bell Grande' 'Seasoning Mix, Original Taco'\n",
      " 'Mild Sauce' 'Taco Tuesday - Crunchy Beef Taco' 'Beach Bell Beer (12 oz)'\n",
      " 'Beach Bell Beer (16 oz)' 'Bell Tower Cerveza (12 oz)'\n",
      " 'Bell Tower Cerveza (16 oz)' 'Bean Crunchy Taco' 'Chick-fil-A Filet'\n",
      " 'Sauce' 'Chick-fil-A Breakfast Filet' 'Chick-fil-A Chicken Biscuit'\n",
      " 'Chick-fil-A Chicken Sandwich' 'Cobb Salad with Chick-fil-A Filet'\n",
      " 'Market Salad with Chick-fil-A Filet'\n",
      " 'Spicy Southwest Salad with Chick-fil-A Filet'\n",
      " 'Catering, Chick-fil-A Chicken Sandwich'\n",
      " 'Maple Pepper Bacon Sandwich with Chick-fil-A Filet' 'Chick-fil-A Sauce'\n",
      " 'Chick-fil-A Cool Wrap' 'Chick-fil-A Icedream Cone'\n",
      " 'Chick-fil-A Icedream Cup' 'Chick-fil-A Lemonade, Gallon'\n",
      " 'Chick-fil-A Lemonade, Large' 'Chick-fil-A Lemonade, Medium'\n",
      " 'Chick-fil-A Lemonade, Small' 'Chick-fil-A Chick-N-Minis, 10 Ct'\n",
      " 'Chick-fil-A Chick-N-Minis, 4 Ct' 'Chili' 'Baconator' 'Milk'\n",
      " 'Apple Bites' 'Baconator Fries' 'Breakfast Baconator' 'Cheese Fries'\n",
      " 'Chili, Large' 'Chocolate Milk' \"Dave's Double\" \"Dave's Single\"\n",
      " \"Dave's Triple\" 'Double Stack' 'Jr. Cheeseburger' 'Jr. Hamburger'\n",
      " 'Pretzel Baconator' 'Sausage Biscuit' 'Sprite, Large' 'Sprite, Medium'\n",
      " 'Sprite, Small']\n",
      "\n",
      "Unique food names in Diabetic Food Data:\n",
      "['Broccoli' 'Spinach' 'Kale' 'Cauliflower' 'Zucchini' 'Bell peppers'\n",
      " 'Cucumber' 'Asparagus' 'Green beans' 'Brussels sprouts' 'Apples'\n",
      " 'Strawberries' 'Blueberries' 'Raspberries' 'Oranges' 'Peaches'\n",
      " 'Grapefruit' 'Cherries' 'Pears' 'Plums' 'Kiwi' 'Quinoa' 'Barley'\n",
      " 'Brown rice' 'Oats' 'Whole wheat pasta' 'Buckwheat' 'Farro' 'Bulgur'\n",
      " 'Chicken breast' 'Turkey breast' 'Salmon' 'Cod' 'Tofu' 'Tempeh' 'Eggs'\n",
      " 'Greek yogurt' 'Cottage cheese' 'Lentils' 'Chickpeas' 'Black beans'\n",
      " 'Kidney beans' 'Pinto beans' 'Edamame' 'Almonds' 'Walnuts' 'Chia seeds'\n",
      " 'Flax seeds' 'Pumpkin seeds' 'Sunflower seeds' 'Unsweetened almond milk'\n",
      " 'Unsweetened soy milk' 'Mozzarella cheese' 'Ricotta cheese' 'Olive oil'\n",
      " 'Avocado oil' 'Coconut oil' 'Popcorn' 'Hummus' 'Hard-boiled eggs'\n",
      " 'Mixed nuts' 'Avocado' 'Sweet potatoes' 'Dark chocolate' 'Vinegar'\n",
      " 'Basil' 'Oregano' 'Parsley' 'Cinnamon' 'Turmeric' 'Ginger']\n",
      "\n",
      "Unique food names in Glycemic Index Data:\n",
      "['Apples (120g)' 'Apple juice (250g)' 'Apricots, dried (60g)'\n",
      " 'Bananas (120g)' 'Fruit cocktail (120g)' 'Grapefruit (120g)'\n",
      " 'Grapes (120g)' 'Mangoes (120g)' 'Oranges, raw (120g)'\n",
      " 'Peaches, canned in light syrup (120g)' 'Pineapple (120g)' 'Plums (120g)'\n",
      " 'Strawberries (120g)' 'Carrot juice (250g)' 'Carrots, raw (80g)'\n",
      " 'Corn, sweet (80g)' 'Lima beans, baby, frozen (150g)'\n",
      " 'Parsnips, peeled boiled (80g)' 'Potato, white, boiled (150g)'\n",
      " 'Tomato soup (250 g)' 'Barley (150g)' 'Basmati rice (150g)'\n",
      " 'Bran cereal (30g)' 'Brown rice, steamed (50g)'\n",
      " 'Bulgur wheat, whole, cooked (150g)' 'Chickpeas (150g)'\n",
      " 'Instant noodles (180g)' 'Instant oatmeal (25 g)'\n",
      " 'Mixed grain bread (30g)' 'Oat bran bread (30g)'\n",
      " 'Rye kernel bread (30 g)'\n",
      " 'Rye flour bread, 50%\\xa0 rye flour, 50% wheat flour (30g)'\n",
      " 'Water crackers, whole grain, sesame seeds (25g)'\n",
      " 'White rice, boiled (150g)' 'Skim milk (250g)' 'Soy milk (250g)'\n",
      " 'Black beans (150g)' 'Butter beans (150g)' 'Cashews (50g)'\n",
      " 'Kidney beans (150g)' 'Kidney beans, canned (150g)'\n",
      " 'Lentils, canned (150g)' 'Split peas, yellow, boiled (150g)'\n",
      " 'Blueberry muffin (60g)' 'Cake, pound (50g)' 'Corn chips (50g)'\n",
      " 'Hummus (30g)' 'Ice cream, full-fat, French vanilla (50g)'\n",
      " 'Ice cream, low-fat, vanilla, “light” (50g)' 'Oatmeal cookies (25g)'\n",
      " 'Snickers (60g)' 'Sponge cake (63g)' 'Strawberry jam (30g)'\n",
      " 'Sushi (100g)']\n"
     ]
    }
   ],
   "source": [
    "# Inspect unique food names in each dataset\n",
    "print(\"Unique food names in Menu Data:\")\n",
    "print(menu_df['food_name'].unique())\n",
    "\n",
    "print(\"\\nUnique food names in Diabetic Food Data:\")\n",
    "print(diabetic_food_df['food_name'].unique())\n",
    "\n",
    "print(\"\\nUnique food names in Glycemic Index Data:\")\n",
    "print(gi_df['food_name'].unique())"
   ]
  },
  {
   "cell_type": "markdown",
   "metadata": {},
   "source": [
    "### Separating Grams from Food Names in Glycemic Index"
   ]
  },
  {
   "cell_type": "code",
   "execution_count": 40,
   "metadata": {},
   "outputs": [
    {
     "name": "stdout",
     "output_type": "stream",
     "text": [
      "         food_name  glycemic_index serving_weight\n",
      "0           Apples            40.0           120g\n",
      "1      Apple juice            39.0           250g\n",
      "2  Apricots, dried            32.0            60g\n",
      "3          Bananas            47.0           120g\n",
      "4   Fruit cocktail            55.0           120g\n"
     ]
    }
   ],
   "source": [
    "# Extract weight (grams) from food_name\n",
    "def extract_weight(name):\n",
    "    match = re.search(r\"\\((.*?)\\)\", name)\n",
    "    return match.group(1) if match else None\n",
    "\n",
    "# Apply to glycemic index dataset\n",
    "gi_df['serving_weight'] = gi_df['food_name'].apply(extract_weight)\n",
    "\n",
    "# Remove the weight from food_name\n",
    "gi_df['food_name'] = gi_df['food_name'].str.replace(r\"\\(.*?\\)\", \"\", regex=True).str.strip()\n",
    "\n",
    "# Verify results\n",
    "print(gi_df.head())"
   ]
  },
  {
   "cell_type": "markdown",
   "metadata": {},
   "source": [
    "### Standardize Food Names Across Datasets"
   ]
  },
  {
   "cell_type": "code",
   "execution_count": 41,
   "metadata": {},
   "outputs": [
    {
     "name": "stdout",
     "output_type": "stream",
     "text": [
      "Unique food names in Glycemic Index: ['apples' 'apple juice' 'apricots, dried' 'bananas' 'fruit cocktail'\n",
      " 'grapefruit' 'grapes' 'mangoes' 'oranges, raw'\n",
      " 'peaches, canned in light syrup' 'pineapple' 'plums' 'strawberries'\n",
      " 'carrot juice' 'carrots, raw' 'corn, sweet' 'lima beans, baby, frozen'\n",
      " 'parsnips, peeled boiled' 'potato, white, boiled' 'tomato soup' 'barley'\n",
      " 'basmati rice' 'bran cereal' 'brown rice, steamed'\n",
      " 'bulgur wheat, whole, cooked' 'chickpeas' 'instant noodles'\n",
      " 'instant oatmeal' 'mixed grain bread' 'oat bran bread' 'rye kernel bread'\n",
      " 'rye flour bread, 50%\\xa0 rye flour, 50% wheat flour'\n",
      " 'water crackers, whole grain, sesame seeds' 'white rice, boiled'\n",
      " 'skim milk' 'soy milk' 'black beans' 'butter beans' 'cashews'\n",
      " 'kidney beans' 'kidney beans, canned' 'lentils, canned'\n",
      " 'split peas, yellow, boiled' 'blueberry muffin' 'cake, pound'\n",
      " 'corn chips' 'hummus' 'ice cream, full-fat, french vanilla'\n",
      " 'ice cream, low-fat, vanilla, “light”' 'oatmeal cookies' 'snickers'\n",
      " 'sponge cake' 'strawberry jam' 'sushi']\n",
      "Unique food names in Menu Data: [\"egg blt mcmuffin with shredded lettuce (mcdonald's in walmart)\"\n",
      " 'cheeseburger' 'hamburger' 'honey' 'hotcakes' 'mcchicken' 'mccrispy'\n",
      " 'mcdouble' 'americano, large' 'americano, medium' 'americano, small'\n",
      " 'apple slices' 'big breakfast' 'big mac' 'cappuccino, large'\n",
      " 'cappuccino, medium' 'cappuccino, small' 'dasani water' 'deluxe mccrispy'\n",
      " 'double cheeseburger' 'bacon king' 'rodeo burger' 'whopper'\n",
      " 'bacon cheeseburger' 'bacon melt' 'big fish' 'chicken jr.'\n",
      " 'chocolate shake' 'classic melt' 'double whopper' 'impossible whopper'\n",
      " 'large sprite' 'motts applesauce' 'medium sprite' 'pancake platter'\n",
      " 'philly melt' 'rodeo cheeseburger'\n",
      " 'taco shells, bell essentials, crunchy' 'crunchy taco'\n",
      " 'nachos bellgrande - beef' 'nachos bellgrande - chicken'\n",
      " 'nachos bellgrande - steak' 'crunchy taco supreme' 'double decker taco'\n",
      " 'double stacked taco' 'soft taco - beef' 'soft taco - chicken'\n",
      " 'fries bell grande' 'nachos bell grande' 'seasoning mix, original taco'\n",
      " 'mild sauce' 'taco tuesday - crunchy beef taco' 'beach bell beer (12 oz)'\n",
      " 'beach bell beer (16 oz)' 'bell tower cerveza (12 oz)'\n",
      " 'bell tower cerveza (16 oz)' 'bean crunchy taco' 'chick-fil-a filet'\n",
      " 'sauce' 'chick-fil-a breakfast filet' 'chick-fil-a chicken biscuit'\n",
      " 'chick-fil-a chicken sandwich' 'cobb salad with chick-fil-a filet'\n",
      " 'market salad with chick-fil-a filet'\n",
      " 'spicy southwest salad with chick-fil-a filet'\n",
      " 'catering, chick-fil-a chicken sandwich'\n",
      " 'maple pepper bacon sandwich with chick-fil-a filet' 'chick-fil-a sauce'\n",
      " 'chick-fil-a cool wrap' 'chick-fil-a icedream cone'\n",
      " 'chick-fil-a icedream cup' 'chick-fil-a lemonade, gallon'\n",
      " 'chick-fil-a lemonade, large' 'chick-fil-a lemonade, medium'\n",
      " 'chick-fil-a lemonade, small' 'chick-fil-a chick-n-minis, 10 ct'\n",
      " 'chick-fil-a chick-n-minis, 4 ct' 'chili' 'baconator' 'milk'\n",
      " 'apple bites' 'baconator fries' 'breakfast baconator' 'cheese fries'\n",
      " 'chili, large' 'chocolate milk' \"dave's double\" \"dave's single\"\n",
      " \"dave's triple\" 'double stack' 'jr. cheeseburger' 'jr. hamburger'\n",
      " 'pretzel baconator' 'sausage biscuit' 'sprite, large' 'sprite, medium'\n",
      " 'sprite, small']\n",
      "Unique food names in Diabetic Food Data: ['broccoli' 'spinach' 'kale' 'cauliflower' 'zucchini' 'bell peppers'\n",
      " 'cucumber' 'asparagus' 'green beans' 'brussels sprouts' 'apples'\n",
      " 'strawberries' 'blueberries' 'raspberries' 'oranges' 'peaches'\n",
      " 'grapefruit' 'cherries' 'pears' 'plums' 'kiwi' 'quinoa' 'barley'\n",
      " 'brown rice' 'oats' 'whole wheat pasta' 'buckwheat' 'farro' 'bulgur'\n",
      " 'chicken breast' 'turkey breast' 'salmon' 'cod' 'tofu' 'tempeh' 'eggs'\n",
      " 'greek yogurt' 'cottage cheese' 'lentils' 'chickpeas' 'black beans'\n",
      " 'kidney beans' 'pinto beans' 'edamame' 'almonds' 'walnuts' 'chia seeds'\n",
      " 'flax seeds' 'pumpkin seeds' 'sunflower seeds' 'unsweetened almond milk'\n",
      " 'unsweetened soy milk' 'mozzarella cheese' 'ricotta cheese' 'olive oil'\n",
      " 'avocado oil' 'coconut oil' 'popcorn' 'hummus' 'hard-boiled eggs'\n",
      " 'mixed nuts' 'avocado' 'sweet potatoes' 'dark chocolate' 'vinegar'\n",
      " 'basil' 'oregano' 'parsley' 'cinnamon' 'turmeric' 'ginger']\n"
     ]
    }
   ],
   "source": [
    "# Rename 'protein' in menu_df to 'proteins' for consistency with diabetic_food_df\n",
    "menu_df.rename(columns={'protein': 'proteins'}, inplace=True)\n",
    "\n",
    "# Standardize food_name in all datasets\n",
    "for df in [gi_df, menu_df, diabetic_food_df]:\n",
    "    df['food_name'] = df['food_name'].str.lower().str.strip()\n",
    "\n",
    "# Verify unique food names after standardization\n",
    "print(\"Unique food names in Glycemic Index:\", gi_df['food_name'].unique())\n",
    "print(\"Unique food names in Menu Data:\", menu_df['food_name'].unique())\n",
    "print(\"Unique food names in Diabetic Food Data:\", diabetic_food_df['food_name'].unique())"
   ]
  },
  {
   "cell_type": "markdown",
   "metadata": {},
   "source": [
    "### Align Columns Across Datasets"
   ]
  },
  {
   "cell_type": "code",
   "execution_count": 42,
   "metadata": {},
   "outputs": [
    {
     "name": "stdout",
     "output_type": "stream",
     "text": [
      "Glycemic Index Columns: Index(['food_name', 'glycemic_index', 'serving_weight', 'serving_size',\n",
      "       'sugars', 'proteins', 'restaurant_name', 'serving_unit', 'calories',\n",
      "       'category', 'sodium', 'carbohydrates', 'brand', 'fats', 'potassium',\n",
      "       'food_category', 'saturated_fats', 'description', 'fiber',\n",
      "       'cholesterol'],\n",
      "      dtype='object')\n",
      "Menu Data Columns: Index(['restaurant_name', 'food_name', 'serving_size', 'serving_unit',\n",
      "       'calories', 'carbohydrates', 'sugars', 'fats', 'saturated_fats',\n",
      "       'cholesterol', 'sodium', 'fiber', 'potassium', 'proteins',\n",
      "       'serving_weight', 'category', 'brand', 'food_category', 'description',\n",
      "       'glycemic_index'],\n",
      "      dtype='object')\n",
      "Diabetic Food Data Columns: Index(['food_name', 'category', 'description', 'brand', 'food_category',\n",
      "       'calories', 'carbohydrates', 'fiber', 'sugars', 'fats', 'proteins',\n",
      "       'serving_size', 'serving_weight', 'restaurant_name', 'serving_unit',\n",
      "       'sodium', 'potassium', 'saturated_fats', 'cholesterol',\n",
      "       'glycemic_index'],\n",
      "      dtype='object')\n"
     ]
    }
   ],
   "source": [
    "# Ensure all datasets have the same columns\n",
    "all_columns = set(gi_df.columns) | set(menu_df.columns) | set(diabetic_food_df.columns)\n",
    "for df in [gi_df, menu_df, diabetic_food_df]:\n",
    "    for col in all_columns:\n",
    "        if col not in df.columns:\n",
    "            df[col] = pd.NA\n",
    "\n",
    "# Verify alignment\n",
    "print(\"Glycemic Index Columns:\", gi_df.columns)\n",
    "print(\"Menu Data Columns:\", menu_df.columns)\n",
    "print(\"Diabetic Food Data Columns:\", diabetic_food_df.columns)\n",
    "\n"
   ]
  },
  {
   "cell_type": "markdown",
   "metadata": {},
   "source": [
    "### Merge Data"
   ]
  },
  {
   "cell_type": "code",
   "execution_count": 43,
   "metadata": {},
   "outputs": [
    {
     "name": "stdout",
     "output_type": "stream",
     "text": [
      "Combined Food Data:\n",
      "  food_name               category_x description_x            brand_x  \\\n",
      "0   almonds  Diabetic-Friendly Foods       ALMONDS      HARVEST FRESH   \n",
      "1   almonds  Diabetic-Friendly Foods       ALMONDS  TREASURED HARVEST   \n",
      "2   almonds  Diabetic-Friendly Foods       ALMONDS          EILLIEN'S   \n",
      "3   almonds  Diabetic-Friendly Foods       ALMONDS         O ORGANICS   \n",
      "4   almonds  Diabetic-Friendly Foods       ALMONDS             MEIJER   \n",
      "\n",
      "                            food_category_x  calories_x  carbohydrates_x  \\\n",
      "0  Popcorn, Peanuts, Seeds & Related Snacks       633.0             13.3   \n",
      "1  Popcorn, Peanuts, Seeds & Related Snacks       603.0             20.0   \n",
      "2  Popcorn, Peanuts, Seeds & Related Snacks       583.0             16.7   \n",
      "3  Popcorn, Peanuts, Seeds & Related Snacks       567.0             20.0   \n",
      "4  Popcorn, Peanuts, Seeds & Related Snacks       588.0             20.6   \n",
      "\n",
      "   fiber_x  sugars_x  fats_x  ...  sodium fiber potassium proteins  \\\n",
      "0     10.0       NaN    56.7  ...     NaN   NaN       NaN      NaN   \n",
      "1     13.3       NaN    50.0  ...     NaN   NaN       NaN      NaN   \n",
      "2     11.1       NaN    52.8  ...     NaN   NaN       NaN      NaN   \n",
      "3     13.3       NaN    50.0  ...     NaN   NaN       NaN      NaN   \n",
      "4     11.8       NaN    50.0  ...     NaN   NaN       NaN      NaN   \n",
      "\n",
      "  serving_weight category brand food_category description glycemic_index  \n",
      "0            NaN      NaN   NaN           NaN         NaN            NaN  \n",
      "1            NaN      NaN   NaN           NaN         NaN            NaN  \n",
      "2            NaN      NaN   NaN           NaN         NaN            NaN  \n",
      "3            NaN      NaN   NaN           NaN         NaN            NaN  \n",
      "4            NaN      NaN   NaN           NaN         NaN            NaN  \n",
      "\n",
      "[5 rows x 58 columns]\n"
     ]
    }
   ],
   "source": [
    "# Merge Glycemic Index and Diabetic Food Data\n",
    "food_gi_combined = pd.merge(diabetic_food_df, gi_df, on='food_name', how='outer')\n",
    "\n",
    "# Add Menu Data\n",
    "combined_food_data = pd.merge(food_gi_combined, menu_df, on='food_name', how='outer')\n",
    "\n",
    "# Inspect the merged dataset\n",
    "print(\"Combined Food Data:\")\n",
    "print(combined_food_data.head())"
   ]
  },
  {
   "cell_type": "markdown",
   "metadata": {},
   "source": [
    "### Handle Duplicates"
   ]
  },
  {
   "cell_type": "code",
   "execution_count": 44,
   "metadata": {},
   "outputs": [
    {
     "name": "stdout",
     "output_type": "stream",
     "text": [
      "Duplicate food names:\n",
      "    food_name               category_x  \\\n",
      "0     almonds  Diabetic-Friendly Foods   \n",
      "1     almonds  Diabetic-Friendly Foods   \n",
      "2     almonds  Diabetic-Friendly Foods   \n",
      "3     almonds  Diabetic-Friendly Foods   \n",
      "4     almonds  Diabetic-Friendly Foods   \n",
      "..        ...                      ...   \n",
      "505  zucchini  Diabetic-Friendly Foods   \n",
      "506  zucchini  Diabetic-Friendly Foods   \n",
      "507  zucchini  Diabetic-Friendly Foods   \n",
      "508  zucchini  Diabetic-Friendly Foods   \n",
      "509  zucchini  Diabetic-Friendly Foods   \n",
      "\n",
      "                                         description_x              brand_x  \\\n",
      "0                                              ALMONDS        HARVEST FRESH   \n",
      "1                                              ALMONDS    TREASURED HARVEST   \n",
      "2                                              ALMONDS            EILLIEN'S   \n",
      "3                                              ALMONDS           O ORGANICS   \n",
      "4                                              ALMONDS               MEIJER   \n",
      "..                                                 ...                  ...   \n",
      "505                                           ZUCCHINI  FRESH FROM THE FARM   \n",
      "506                        Squash, zucchini, baby, raw                  NaN   \n",
      "507       Squash, summer, zucchini, includes skin, raw                  NaN   \n",
      "508    Squash, summer, zucchini, italian style, canned                  NaN   \n",
      "509  Squash, summer, green, zucchini, includes skin...                  NaN   \n",
      "\n",
      "                              food_category_x  calories_x  carbohydrates_x  \\\n",
      "0    Popcorn, Peanuts, Seeds & Related Snacks       633.0            13.30   \n",
      "1    Popcorn, Peanuts, Seeds & Related Snacks       603.0            20.00   \n",
      "2    Popcorn, Peanuts, Seeds & Related Snacks       583.0            16.70   \n",
      "3    Popcorn, Peanuts, Seeds & Related Snacks       567.0            20.00   \n",
      "4    Popcorn, Peanuts, Seeds & Related Snacks       588.0            20.60   \n",
      "..                                        ...         ...              ...   \n",
      "505           Pre-Packaged Fruit & Vegetables        21.0             4.21   \n",
      "506         Vegetables and Vegetable Products        88.0             3.11   \n",
      "507         Vegetables and Vegetable Products        17.0             3.11   \n",
      "508         Vegetables and Vegetable Products       121.0             6.85   \n",
      "509         Vegetables and Vegetable Products         NaN              NaN   \n",
      "\n",
      "     fiber_x  sugars_x  fats_x  ...  sodium fiber potassium proteins  \\\n",
      "0     10.000       NaN  56.700  ...     NaN   NaN       NaN      NaN   \n",
      "1     13.300       NaN  50.000  ...     NaN   NaN       NaN      NaN   \n",
      "2     11.100       NaN  52.800  ...     NaN   NaN       NaN      NaN   \n",
      "3     13.300       NaN  50.000  ...     NaN   NaN       NaN      NaN   \n",
      "4     11.800       NaN  50.000  ...     NaN   NaN       NaN      NaN   \n",
      "..       ...       ...     ...  ...     ...   ...       ...      ...   \n",
      "505    1.100       NaN   0.000  ...     NaN   NaN       NaN      NaN   \n",
      "506    1.100       NaN   0.400  ...     NaN   NaN       NaN      NaN   \n",
      "507    1.000       NaN   0.320  ...     NaN   NaN       NaN      NaN   \n",
      "508      NaN       NaN   0.110  ...     NaN   NaN       NaN      NaN   \n",
      "509    0.752       NaN   0.205  ...     NaN   NaN       NaN      NaN   \n",
      "\n",
      "    serving_weight category brand food_category description glycemic_index  \n",
      "0              NaN      NaN   NaN           NaN         NaN            NaN  \n",
      "1              NaN      NaN   NaN           NaN         NaN            NaN  \n",
      "2              NaN      NaN   NaN           NaN         NaN            NaN  \n",
      "3              NaN      NaN   NaN           NaN         NaN            NaN  \n",
      "4              NaN      NaN   NaN           NaN         NaN            NaN  \n",
      "..             ...      ...   ...           ...         ...            ...  \n",
      "505            NaN      NaN   NaN           NaN         NaN            NaN  \n",
      "506            NaN      NaN   NaN           NaN         NaN            NaN  \n",
      "507            NaN      NaN   NaN           NaN         NaN            NaN  \n",
      "508            NaN      NaN   NaN           NaN         NaN            NaN  \n",
      "509            NaN      NaN   NaN           NaN         NaN            NaN  \n",
      "\n",
      "[371 rows x 58 columns]\n"
     ]
    }
   ],
   "source": [
    "# Check for duplicates\n",
    "duplicates = combined_food_data[combined_food_data.duplicated(subset='food_name', keep=False)]\n",
    "print(\"Duplicate food names:\")\n",
    "print(duplicates)"
   ]
  },
  {
   "cell_type": "markdown",
   "metadata": {},
   "source": [
    "### Aggregate Numeric Columns"
   ]
  },
  {
   "cell_type": "code",
   "execution_count": 45,
   "metadata": {},
   "outputs": [
    {
     "name": "stdout",
     "output_type": "stream",
     "text": [
      "Aggregated DataFrame with All Columns:\n",
      "           food_name  calories_x  carbohydrates_x  fiber_x  fats_x  \\\n",
      "0            almonds       594.8            18.12     11.9    51.9   \n",
      "1   americano, large         NaN              NaN      NaN     NaN   \n",
      "2  americano, medium         NaN              NaN      NaN     NaN   \n",
      "3   americano, small         NaN              NaN      NaN     NaN   \n",
      "4        apple bites         NaN              NaN      NaN     NaN   \n",
      "\n",
      "  glycemic_index               category_x description_x        brand_x  \\\n",
      "0            NaN  Diabetic-Friendly Foods       ALMONDS  HARVEST FRESH   \n",
      "1            NaN                     None          None           None   \n",
      "2            NaN                     None          None           None   \n",
      "3            NaN                     None          None           None   \n",
      "4            NaN                     None          None           None   \n",
      "\n",
      "                            food_category_x  ...  cholesterol  sodium fiber  \\\n",
      "0  Popcorn, Peanuts, Seeds & Related Snacks  ...          NaN     NaN   NaN   \n",
      "1                                      None  ...         0.00   28.81  0.00   \n",
      "2                                      None  ...         0.00   28.81  0.00   \n",
      "3                                      None  ...         0.00   28.81  0.00   \n",
      "4                                      None  ...        22.67  158.12  0.87   \n",
      "\n",
      "  potassium proteins serving_weight category brand food_category description  \n",
      "0       NaN      NaN           None     None  None          None        None  \n",
      "1    113.47     0.12           None     None  None          None        None  \n",
      "2    113.47     0.12           None     None  None          None        None  \n",
      "3    113.47     0.12           None     None  None          None        None  \n",
      "4     73.01     3.00           None     None  None          None        None  \n",
      "\n",
      "[5 rows x 58 columns]\n"
     ]
    }
   ],
   "source": [
    "# Defining aggregation rules\n",
    "numeric_aggregation = {\n",
    "    'calories_x': 'mean',\n",
    "    'carbohydrates_x': 'mean',\n",
    "    'fiber_x': 'mean',\n",
    "    'fats_x': 'mean',\n",
    "    'glycemic_index': 'mean',\n",
    "}\n",
    "non_numeric_aggregation = {col: 'first' for col in combined_food_data.columns if col not in numeric_aggregation and col != 'food_name'}\n",
    "aggregation_rules = {**numeric_aggregation, **non_numeric_aggregation}\n",
    "\n",
    "# Aggregate data\n",
    "aggregated_data = combined_food_data.groupby('food_name').agg(aggregation_rules).reset_index()\n",
    "\n",
    "# Inspect aggregated data\n",
    "print(\"Aggregated DataFrame with All Columns:\")\n",
    "print(aggregated_data.head())\n",
    "\n"
   ]
  },
  {
   "cell_type": "markdown",
   "metadata": {},
   "source": [
    "### Normalize Nutritional Values"
   ]
  },
  {
   "cell_type": "code",
   "execution_count": 46,
   "metadata": {},
   "outputs": [],
   "source": [
    "# Calculate per-100g values where serving_weight is available\n",
    "aggregated_data['serving_weight'] = pd.to_numeric(aggregated_data['serving_weight'], errors='coerce')\n",
    "valid_weight = aggregated_data['serving_weight'] > 0\n",
    "\n",
    "aggregated_data.loc[valid_weight, 'calories_per_100g'] = (\n",
    "    aggregated_data.loc[valid_weight, 'calories_x'] / aggregated_data.loc[valid_weight, 'serving_weight'] * 100\n",
    ")\n",
    "aggregated_data.loc[valid_weight, 'carbs_per_100g'] = (\n",
    "    aggregated_data.loc[valid_weight, 'carbohydrates_x'] / aggregated_data.loc[valid_weight, 'serving_weight'] * 100\n",
    ")\n",
    "aggregated_data.loc[valid_weight, 'fats_per_100g'] = (\n",
    "    aggregated_data.loc[valid_weight, 'fats_x'] / aggregated_data.loc[valid_weight, 'serving_weight'] * 100\n",
    ")\n"
   ]
  },
  {
   "cell_type": "markdown",
   "metadata": {},
   "source": [
    "Categorize Glycemic Index"
   ]
  },
  {
   "cell_type": "code",
   "execution_count": 47,
   "metadata": {},
   "outputs": [],
   "source": [
    "# Categorize based on glycemic index\n",
    "def categorize_gi(value):\n",
    "    if pd.isna(value):\n",
    "        return 'Unknown'\n",
    "    elif value <= 55:\n",
    "        return 'Low'\n",
    "    elif value <= 70:\n",
    "        return 'Medium'\n",
    "    else:\n",
    "        return 'High'\n",
    "\n",
    "aggregated_data['gi_category'] = aggregated_data['glycemic_index'].apply(categorize_gi)\n"
   ]
  },
  {
   "cell_type": "markdown",
   "metadata": {},
   "source": [
    "### Final Review"
   ]
  },
  {
   "cell_type": "code",
   "execution_count": 48,
   "metadata": {},
   "outputs": [
    {
     "name": "stdout",
     "output_type": "stream",
     "text": [
      "Final Dataset Shape: (213, 62)\n",
      "           food_name  calories_x  carbohydrates_x  fiber_x  fats_x  \\\n",
      "0            almonds       594.8            18.12     11.9    51.9   \n",
      "1   americano, large         NaN              NaN      NaN     NaN   \n",
      "2  americano, medium         NaN              NaN      NaN     NaN   \n",
      "3   americano, small         NaN              NaN      NaN     NaN   \n",
      "4        apple bites         NaN              NaN      NaN     NaN   \n",
      "\n",
      "  glycemic_index               category_x description_x        brand_x  \\\n",
      "0            NaN  Diabetic-Friendly Foods       ALMONDS  HARVEST FRESH   \n",
      "1            NaN                     None          None           None   \n",
      "2            NaN                     None          None           None   \n",
      "3            NaN                     None          None           None   \n",
      "4            NaN                     None          None           None   \n",
      "\n",
      "                            food_category_x  ...  proteins  serving_weight  \\\n",
      "0  Popcorn, Peanuts, Seeds & Related Snacks  ...       NaN             NaN   \n",
      "1                                      None  ...      0.12             NaN   \n",
      "2                                      None  ...      0.12             NaN   \n",
      "3                                      None  ...      0.12             NaN   \n",
      "4                                      None  ...      3.00             NaN   \n",
      "\n",
      "  category brand food_category description calories_per_100g carbs_per_100g  \\\n",
      "0     None  None          None        None               NaN            NaN   \n",
      "1     None  None          None        None               NaN            NaN   \n",
      "2     None  None          None        None               NaN            NaN   \n",
      "3     None  None          None        None               NaN            NaN   \n",
      "4     None  None          None        None               NaN            NaN   \n",
      "\n",
      "  fats_per_100g gi_category  \n",
      "0           NaN     Unknown  \n",
      "1           NaN     Unknown  \n",
      "2           NaN     Unknown  \n",
      "3           NaN     Unknown  \n",
      "4           NaN     Unknown  \n",
      "\n",
      "[5 rows x 62 columns]\n"
     ]
    }
   ],
   "source": [
    "# Review final dataset\n",
    "print(\"Final Dataset Shape:\", aggregated_data.shape)\n",
    "print(aggregated_data.head())"
   ]
  },
  {
   "cell_type": "markdown",
   "metadata": {},
   "source": [
    "### Export Merged data to CSV"
   ]
  },
  {
   "cell_type": "code",
   "execution_count": 50,
   "metadata": {},
   "outputs": [
    {
     "name": "stdout",
     "output_type": "stream",
     "text": [
      "Final combined data exported to: ./data/combined_food_data.csv\n"
     ]
    }
   ],
   "source": [
    "# Export the final aggregated data to a CSV file\n",
    "output_path = './data/combined_food_data.csv'\n",
    "aggregated_data.to_csv(output_path, index=False)\n",
    "\n",
    "print(f\"Final combined data exported to: {output_path}\")"
   ]
  },
  {
   "cell_type": "markdown",
   "metadata": {},
   "source": [
    "## Merging Patient Data"
   ]
  },
  {
   "cell_type": "code",
   "execution_count": null,
   "metadata": {},
   "outputs": [],
   "source": [
    "# # Patient-Based Keys have standardized formatting\n",
    "# patient_df['Age'] = patient_df['Age'].astype(int)  # integer format\n",
    "# patient_df['Sex'] = patient_df['Sex'].astype(int)  # Standardize 'Sex' column"
   ]
  }
 ],
 "metadata": {
  "kernelspec": {
   "display_name": "Python 3 (ipykernel)",
   "language": "python",
   "name": "python3"
  },
  "language_info": {
   "codemirror_mode": {
    "name": "ipython",
    "version": 3
   },
   "file_extension": ".py",
   "mimetype": "text/x-python",
   "name": "python",
   "nbconvert_exporter": "python",
   "pygments_lexer": "ipython3",
   "version": "3.10.12"
  }
 },
 "nbformat": 4,
 "nbformat_minor": 2
}
